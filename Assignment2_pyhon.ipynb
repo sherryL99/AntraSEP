{
 "cells": [
  {
   "cell_type": "code",
   "execution_count": 130,
   "metadata": {},
   "outputs": [],
   "source": [
    "import os\n",
    "import json\n"
   ]
  },
  {
   "cell_type": "code",
   "execution_count": 131,
   "metadata": {},
   "outputs": [
    {
     "name": "stdout",
     "output_type": "stream",
     "text": [
      "<class 'dict'>\n"
     ]
    }
   ],
   "source": [
    "with open(os.path.join('D:\\Antra Assignment\\drive-download-20220510T004150Z-001', 'movie.json'), 'r',\n",
    "          encoding='utf-8') as f1:\n",
    "    l=[]\n",
    "    s = f1.read()\n",
    "    s.replace('\\'','\\\"')\n",
    "    #s = s.replace('\\t','')\n",
    "    #s = s.replace('\\n','')\n",
    "    #s = s.replace(',}','}')\n",
    "    #s = s.replace(',]',']')\n",
    "    data = json.loads(s.strip())\n",
    "    #print(data)\n",
    "    data_ = data.copy()\n",
    "    print(type(data_))\n"
   ]
  },
  {
   "cell_type": "code",
   "execution_count": 132,
   "metadata": {},
   "outputs": [
    {
     "name": "stdout",
     "output_type": "stream",
     "text": [
      "{'Id': 1, 'Title': 'Inception', 'Overview': 'Cobb, a skilled thief who commits corporate espionage by infiltrating the subconscious of his targets is offered a chance to regain his old life as payment for a task considered to be impossible: \"inception\", the implantation of another person\\'s idea into a target\\'s subconscious.', 'Tagline': 'Your mind is the scene of the crime.', 'Budget': 160000000.0, 'Revenue': 825532764.0, 'ImdbUrl': 'https://www.imdb.com/title/tt1375666', 'TmdbUrl': 'https://www.themoviedb.org/movie/27205', 'PosterUrl': 'https://image.tmdb.org/t/p/w342//9gk7adHYeDvHkCSEqAvQNLV5Uge.jpg', 'BackdropUrl': 'https://image.tmdb.org/t/p/original//s3TBrRGB1iav7gFOCNx3H31MoES.jpg', 'OriginalLanguage': 'en', 'ReleaseDate': '2010-07-15T00:00:00', 'RunTime': 148, 'Price': 9.9, 'CreatedDate': '2021-04-03T16:51:30.1633333', 'UpdatedDate': None, 'UpdatedBy': None, 'CreatedBy': None, 'genres': [{'id': 1, 'name': 'Adventure'}, {'id': 6, 'name': 'Action'}, {'id': 13, 'name': 'Science Fiction'}]}\n",
      "9995\n",
      "1249\n"
     ]
    }
   ],
   "source": [
    "data_list = data_['movie']\n",
    "print(data_list[0])\n",
    "l = len(data_['movie'])\n",
    "print(l)\n",
    "num_of_the_split = 8\n",
    "len_per_small_json = l//num_of_the_split\n",
    "print(len_per_small_json)\n",
    "\n",
    "            "
   ]
  },
  {
   "cell_type": "code",
   "execution_count": 133,
   "metadata": {},
   "outputs": [],
   "source": [
    "#json.dump(data_list[0:1250],open(\"D:\\Antra Assignment\\drive-download-20220510T004150Z-001/movie\"+'1'+'.json','w',encoding='utf-8'),ensure_ascii=False,indent=True)"
   ]
  },
  {
   "cell_type": "code",
   "execution_count": 134,
   "metadata": {},
   "outputs": [],
   "source": [
    "\n",
    "for i in range(num_of_the_split):\n",
    "    json.dump(data_list[i * len_per_small_json:(i + 1) * (len_per_small_json+1)], open(\n",
    "            \"D:\\Antra Assignment\\drive-download-20220510T004150Z-001/movie split/movie\" + str(i+1) + \".json\", 'w',\n",
    "            encoding='utf8'), ensure_ascii=False, indent=True)"
   ]
  }
 ],
 "metadata": {
  "interpreter": {
   "hash": "88279d2366fe020547cde40dd65aa0e3aa662a6ec1f3ca12d88834876c85e1a6"
  },
  "kernelspec": {
   "display_name": "Python 3.9.7 ('base')",
   "language": "python",
   "name": "python3"
  },
  "language_info": {
   "codemirror_mode": {
    "name": "ipython",
    "version": 3
   },
   "file_extension": ".py",
   "mimetype": "text/x-python",
   "name": "python",
   "nbconvert_exporter": "python",
   "pygments_lexer": "ipython3",
   "version": "3.9.7"
  },
  "orig_nbformat": 4
 },
 "nbformat": 4,
 "nbformat_minor": 2
}
