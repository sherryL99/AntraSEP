{
 "cells": [
  {
   "cell_type": "code",
   "execution_count": 4,
   "metadata": {},
   "outputs": [],
   "source": [
    "import pandas as pd\n",
    "import re\n",
    "import numpy as np"
   ]
  },
  {
   "cell_type": "code",
   "execution_count": 11,
   "metadata": {},
   "outputs": [
    {
     "name": "stdout",
     "output_type": "stream",
     "text": [
      "         FirstName   LastName                        Email         Phone  \\\n",
      "0          Matthew   Williams   Matthew.Williams@email.com  053-278-8309   \n",
      "1          MATTHEW   WILLIAMS   Matthew.Williams@email.com    0532788309   \n",
      "2         MATTHEW    williams  Matthew.Williams@email.com     0532788309   \n",
      "3           Louise  Rodriguez   Louise.Rodriguez@email.com  553-981-1593   \n",
      "4          Charles      Smith      Charles.Smith@email.com  523-381-5730   \n",
      "...            ...        ...                          ...           ...   \n",
      "1014859     Chance      Davis       Chance.Davis@email.com  886-218-6051   \n",
      "1014860    Matthew   Gonzalez   Matthew.Gonzalez@email.com  087-377-6278   \n",
      "1014861    Charles      Jones      Charles.Jones@email.com  294-507-5836   \n",
      "1014862      Sarah     Wilson       Sarah.Wilson@email.com  168-491-9275   \n",
      "1014863  Elizabeth    Jackson  Elizabeth.Jackson@email.com  192-281-2861   \n",
      "\n",
      "                        Address  \n",
      "0         No.0532 Williams Lane  \n",
      "1           #0532 Williams Lane  \n",
      "2            0532 Williams Lane  \n",
      "3        No.5539 Rodriguez Lane  \n",
      "4            No.5233 Smith Lane  \n",
      "...                         ...  \n",
      "1014859      No.8862 Davis Lane  \n",
      "1014860   No.0873 Gonzalez Lane  \n",
      "1014861      No.2945 Jones Lane  \n",
      "1014862     No.1684 Wilson Lane  \n",
      "1014863    No.1922 Jackson Lane  \n",
      "\n",
      "[1517076 rows x 5 columns]\n"
     ]
    }
   ],
   "source": [
    "\n",
    "people1 = pd.read_csv('D:\\Antra Assignment\\drive-download-20220510T004150Z-001\\people\\people_{number}.txt'.format(number=1), sep='\\t')\n",
    "people2 = pd.read_csv('D:\\Antra Assignment\\drive-download-20220510T004150Z-001\\people\\people_{number}.txt'.format(number=2), sep='\\t')\n",
    "df1 = pd.DataFrame(people1)\n",
    "df2 = pd.DataFrame(people2)\n",
    "df_1 = df1.copy()\n",
    "df_2 = df2.copy()\n",
    "df_ = pd.concat([df_1, df_2], axis=0)\n",
    "print(df_)"
   ]
  },
  {
   "cell_type": "code",
   "execution_count": 12,
   "metadata": {},
   "outputs": [
    {
     "name": "stdout",
     "output_type": "stream",
     "text": [
      "         FirstName   LastName                        Email           Phone  \\\n",
      "0          Matthew   Williams   Matthew.Williams@email.com  ['0532788309']   \n",
      "1          Matthew   Williams   Matthew.Williams@email.com  ['0532788309']   \n",
      "2         Matthew    Williams  Matthew.Williams@email.com   ['0532788309']   \n",
      "3           Louise  Rodriguez   Louise.Rodriguez@email.com  ['5539811593']   \n",
      "4          Charles      Smith      Charles.Smith@email.com  ['5233815730']   \n",
      "...            ...        ...                          ...             ...   \n",
      "1014859     Chance      Davis       Chance.Davis@email.com  ['8862186051']   \n",
      "1014860    Matthew   Gonzalez   Matthew.Gonzalez@email.com  ['0873776278']   \n",
      "1014861    Charles      Jones      Charles.Jones@email.com  ['2945075836']   \n",
      "1014862      Sarah     Wilson       Sarah.Wilson@email.com  ['1684919275']   \n",
      "1014863  Elizabeth    Jackson  Elizabeth.Jackson@email.com  ['1922812861']   \n",
      "\n",
      "                        Address  \n",
      "0         No.0532 Williams Lane  \n",
      "1           #0532 Williams Lane  \n",
      "2            0532 Williams Lane  \n",
      "3        No.5539 Rodriguez Lane  \n",
      "4            No.5233 Smith Lane  \n",
      "...                         ...  \n",
      "1014859      No.8862 Davis Lane  \n",
      "1014860   No.0873 Gonzalez Lane  \n",
      "1014861      No.2945 Jones Lane  \n",
      "1014862     No.1684 Wilson Lane  \n",
      "1014863    No.1922 Jackson Lane  \n",
      "\n",
      "[1517076 rows x 5 columns]\n"
     ]
    }
   ],
   "source": [
    "cols = ['FirstName','LastName']\n",
    "for c in cols:\n",
    "    df_[c] = df_[c].str.capitalize()\n",
    "\n",
    "\n",
    "import numpy as np\n",
    "l =[]\n",
    "\n",
    "for num in df_['Phone']:\n",
    "    num = re.compile('[\\d]{10}|^[\\d]{3}-[\\d]{3}-[\\d]{4}').findall(num)\n",
    "    #print(type(num))\n",
    "    \n",
    "    if '-' in str(num):\n",
    "        n = str(num).replace('-','')\n",
    "        #print(n)\n",
    "        l.append(n)\n",
    "        \n",
    "        \n",
    "    else:\n",
    "        m = str(num)\n",
    "        #print(m)\n",
    "        l.append(m)\n",
    "        #print(type(num))\n",
    "        \n",
    "   \n",
    "   \n",
    "    #print(d)\n",
    "df_['Phone'] = l\n",
    "\n",
    "print(df_)\n",
    "    \n",
    "    \n",
    "  \n",
    "\n",
    "        \n",
    "       \n",
    "\n",
    "    "
   ]
  },
  {
   "cell_type": "code",
   "execution_count": 13,
   "metadata": {},
   "outputs": [
    {
     "name": "stdout",
     "output_type": "stream",
     "text": [
      "         FirstName   LastName                        Email           Phone  \\\n",
      "0          Matthew   Williams   Matthew.Williams@email.com  ['0532788309']   \n",
      "1          Matthew   Williams   Matthew.Williams@email.com  ['0532788309']   \n",
      "2         Matthew    Williams  Matthew.Williams@email.com   ['0532788309']   \n",
      "3           Louise  Rodriguez   Louise.Rodriguez@email.com  ['5539811593']   \n",
      "4          Charles      Smith      Charles.Smith@email.com  ['5233815730']   \n",
      "...            ...        ...                          ...             ...   \n",
      "1014859     Chance      Davis       Chance.Davis@email.com  ['8862186051']   \n",
      "1014860    Matthew   Gonzalez   Matthew.Gonzalez@email.com  ['0873776278']   \n",
      "1014861    Charles      Jones      Charles.Jones@email.com  ['2945075836']   \n",
      "1014862      Sarah     Wilson       Sarah.Wilson@email.com  ['1684919275']   \n",
      "1014863  Elizabeth    Jackson  Elizabeth.Jackson@email.com  ['1922812861']   \n",
      "\n",
      "                            Address  \n",
      "0         [No.0532, Williams, Lane]  \n",
      "1         [No.0532, Williams, Lane]  \n",
      "2         [No.0532, Williams, Lane]  \n",
      "3        [No.5539, Rodriguez, Lane]  \n",
      "4            [No.5233, Smith, Lane]  \n",
      "...                             ...  \n",
      "1014859      [No.8862, Davis, Lane]  \n",
      "1014860   [No.0873, Gonzalez, Lane]  \n",
      "1014861      [No.2945, Jones, Lane]  \n",
      "1014862     [No.1684, Wilson, Lane]  \n",
      "1014863    [No.1922, Jackson, Lane]  \n",
      "\n",
      "[1517076 rows x 5 columns]\n"
     ]
    }
   ],
   "source": [
    "ll =[]\n",
    "for ad in df_['Address']:\n",
    "    #ad_ = re.compile('^.*[\\d]{4}[\\s][a-zA-Z]+[\\s][a-zA-Z]+').findall(ad)\n",
    "    #ad_split = re.split('\\s',ad)\n",
    "    ad_split = str.split(str(ad))\n",
    "    ad1 = re.compile('[\\d]{4}').findall(ad)\n",
    "    ad2 = re.compile('[\\s][a-zA-Z]+[\\s]').findall(ad)\n",
    "    #print(len(ad_split))\n",
    "    if not re.match('^No\\.[\\d]{4}',ad_split[0]):\n",
    "        #print(\"Not Match\")\n",
    "        ad_split[0] = 'No.'+ad_split[0][-4:]\n",
    "        #print(ad_split[0])\n",
    "    else:\n",
    "        #print(\"Match\")\n",
    "        pass\n",
    "    ll.append(ad_split)\n",
    "    \n",
    "df_['Address'] = ll\n",
    "#You could use a list comprehension to generate a new list with the rows in id \n",
    "# joining those entries that are lists using string.join. You can check if an entry is a list using isinstance\n",
    "\n",
    "\n",
    "print(df_)\n",
    "    \n",
    "    \n",
    "    "
   ]
  },
  {
   "cell_type": "code",
   "execution_count": 14,
   "metadata": {},
   "outputs": [
    {
     "name": "stdout",
     "output_type": "stream",
     "text": [
      "        FirstName   LastName                       Email           Phone  \\\n",
      "0         Matthew   Williams  Matthew.Williams@email.com  ['0532788309']   \n",
      "3          Louise  Rodriguez  Louise.Rodriguez@email.com  ['5539811593']   \n",
      "4         Charles      Smith     Charles.Smith@email.com  ['5233815730']   \n",
      "5            Lisa      Jones        Lisa.Jones@email.com  ['8037591018']   \n",
      "6           Greta      Jones       Greta.Jones@email.com  ['6796258398']   \n",
      "...           ...        ...                         ...             ...   \n",
      "502087     Chance      Davis      Chance.Davis@email.com  ['7922173241']   \n",
      "502088       Lisa      Jones        Lisa.Jones@email.com  ['2975282185']   \n",
      "502089    Matthew    Jackson   Matthew.Jackson@email.com  ['6558195842']   \n",
      "502090      Lance    Jackson     Lance.Jackson@email.com  ['6063160561']   \n",
      "502091  Firstname   Lastname                       Email              []   \n",
      "\n",
      "                           Address  \n",
      "0        [No.0532, Williams, Lane]  \n",
      "3       [No.5539, Rodriguez, Lane]  \n",
      "4           [No.5233, Smith, Lane]  \n",
      "5           [No.8037, Jones, Lane]  \n",
      "6           [No.6796, Jones, Lane]  \n",
      "...                            ...  \n",
      "502087      [No.7922, Davis, Lane]  \n",
      "502088      [No.2975, Jones, Lane]  \n",
      "502089    [No.6558, Jackson, Lane]  \n",
      "502090    [No.6063, Jackson, Lane]  \n",
      "502091                   [No.ress]  \n",
      "\n",
      "[999999 rows x 5 columns]\n"
     ]
    }
   ],
   "source": [
    "#print(df_)\n",
    "#existing white space causes some of the duplicates still exist, clean the white space first\n",
    "df_.replace('\\s','',regex=True,inplace=True)\n",
    "df_ = df_.drop_duplicates(subset=['FirstName', 'LastName','Phone'], keep='first')\n",
    "print(df_)"
   ]
  },
  {
   "cell_type": "code",
   "execution_count": 15,
   "metadata": {},
   "outputs": [
    {
     "name": "stdout",
     "output_type": "stream",
     "text": [
      "        FirstName   LastName                       Email           Phone  \\\n",
      "0         Matthew   Williams  Matthew.Williams@email.com  ['0532788309']   \n",
      "3          Louise  Rodriguez  Louise.Rodriguez@email.com  ['5539811593']   \n",
      "4         Charles      Smith     Charles.Smith@email.com  ['5233815730']   \n",
      "5            Lisa      Jones        Lisa.Jones@email.com  ['8037591018']   \n",
      "6           Greta      Jones       Greta.Jones@email.com  ['6796258398']   \n",
      "...           ...        ...                         ...             ...   \n",
      "502087     Chance      Davis      Chance.Davis@email.com  ['7922173241']   \n",
      "502088       Lisa      Jones        Lisa.Jones@email.com  ['2975282185']   \n",
      "502089    Matthew    Jackson   Matthew.Jackson@email.com  ['6558195842']   \n",
      "502090      Lance    Jackson     Lance.Jackson@email.com  ['6063160561']   \n",
      "502091  Firstname   Lastname                       Email              []   \n",
      "\n",
      "                       Address  \n",
      "0        No.0532 Williams Lane  \n",
      "3       No.5539 Rodriguez Lane  \n",
      "4           No.5233 Smith Lane  \n",
      "5           No.8037 Jones Lane  \n",
      "6           No.6796 Jones Lane  \n",
      "...                        ...  \n",
      "502087      No.7922 Davis Lane  \n",
      "502088      No.2975 Jones Lane  \n",
      "502089    No.6558 Jackson Lane  \n",
      "502090    No.6063 Jackson Lane  \n",
      "502091                 No.ress  \n",
      "\n",
      "[999999 rows x 5 columns]\n"
     ]
    }
   ],
   "source": [
    "\n",
    "df_['Address'] = [' '.join(i) if isinstance(i, list) else i for i in df_['Address']]\n",
    "print(df_)"
   ]
  },
  {
   "cell_type": "code",
   "execution_count": null,
   "metadata": {},
   "outputs": [],
   "source": [
    "#df_1 = df_.copy()\n",
    "#df_1"
   ]
  },
  {
   "cell_type": "code",
   "execution_count": 16,
   "metadata": {},
   "outputs": [
    {
     "name": "stdout",
     "output_type": "stream",
     "text": [
      "        FirstName   LastName                       Email         Phone  \\\n",
      "0         Matthew   Williams  Matthew.Williams@email.com  053-278-8309   \n",
      "3          Louise  Rodriguez  Louise.Rodriguez@email.com  553-981-1593   \n",
      "4         Charles      Smith     Charles.Smith@email.com  523-381-5730   \n",
      "5            Lisa      Jones        Lisa.Jones@email.com  803-759-1018   \n",
      "6           Greta      Jones       Greta.Jones@email.com  679-625-8398   \n",
      "...           ...        ...                         ...           ...   \n",
      "502087     Chance      Davis      Chance.Davis@email.com  792-217-3241   \n",
      "502088       Lisa      Jones        Lisa.Jones@email.com  297-528-2185   \n",
      "502089    Matthew    Jackson   Matthew.Jackson@email.com  655-819-5842   \n",
      "502090      Lance    Jackson     Lance.Jackson@email.com  606-316-0561   \n",
      "502091  Firstname   Lastname                       Email            --   \n",
      "\n",
      "                       Address  \n",
      "0        No.0532 Williams Lane  \n",
      "3       No.5539 Rodriguez Lane  \n",
      "4           No.5233 Smith Lane  \n",
      "5           No.8037 Jones Lane  \n",
      "6           No.6796 Jones Lane  \n",
      "...                        ...  \n",
      "502087      No.7922 Davis Lane  \n",
      "502088      No.2975 Jones Lane  \n",
      "502089    No.6558 Jackson Lane  \n",
      "502090    No.6063 Jackson Lane  \n",
      "502091                 No.ress  \n",
      "\n",
      "[999999 rows x 5 columns]\n"
     ]
    }
   ],
   "source": [
    "\n",
    "sym =['[',']',\"\\'\"]\n",
    "ss = []\n",
    "for i in df_['Phone']:\n",
    "    i = i.replace('[','')\n",
    "    i = i.replace(']','')\n",
    "    i = i.replace('\\'','')\n",
    "    i=i[:3]+'-'+ i[3:6]+'-'+i[6:]\n",
    "    #print(type(i))\n",
    "    #print(i)\n",
    "    ss.append(i)\n",
    "df_['Phone'] = ss\n",
    "    \n",
    "print(df_)"
   ]
  },
  {
   "cell_type": "code",
   "execution_count": 17,
   "metadata": {},
   "outputs": [],
   "source": [
    "\n",
    "import os  \n",
    "'''\n",
    "from pathlib import Path  \n",
    "filepath = Path('D:\\Antra Assignment\\drive-download-20220510T004150Z-001out\\Result\\outcomes.csv')  \n",
    "filepath.parent.mkdir(parents=True, exist_ok=True)  \n",
    "df_.to_csv(filepath)  \n",
    "'''\n",
    "\n",
    "os.makedirs('D:\\Antra Assignment\\drive-download-20220510T004150Z-001\\Result', exist_ok=True)  \n",
    "df_.to_csv(r'D:\\Antra Assignment\\drive-download-20220510T004150Z-001\\Result\\outcomes_{number}.csv'.format(number=1))  "
   ]
  }
 ],
 "metadata": {
  "interpreter": {
   "hash": "88279d2366fe020547cde40dd65aa0e3aa662a6ec1f3ca12d88834876c85e1a6"
  },
  "kernelspec": {
   "display_name": "Python 3.9.7 ('base')",
   "language": "python",
   "name": "python3"
  },
  "language_info": {
   "codemirror_mode": {
    "name": "ipython",
    "version": 3
   },
   "file_extension": ".py",
   "mimetype": "text/x-python",
   "name": "python",
   "nbconvert_exporter": "python",
   "pygments_lexer": "ipython3",
   "version": "3.9.7"
  },
  "orig_nbformat": 4
 },
 "nbformat": 4,
 "nbformat_minor": 2
}
